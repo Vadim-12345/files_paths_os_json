{
  "cells": [
    {
      "cell_type": "markdown",
      "metadata": {
        "id": "Oos7vRsQcGQD"
      },
      "source": [
        "### **Домашнее задание: Продвинутая работа с файлами, путями, кодировками и сериализацией данных**"
      ]
    },
    {
      "cell_type": "markdown",
      "metadata": {
        "id": "Ohn3lphOcGQE"
      },
      "source": [
        "#### **Цель:** Закрепить и углубить знания по работе с файлами, операционной системой, путями, кодировками и сериализацией данных в Python. Выполните следующие задания, объединяя все пройденные концепции в одном проекте."
      ]
    },
    {
      "cell_type": "markdown",
      "metadata": {
        "id": "Di95TvD1cGQE"
      },
      "source": [
        "### **Задание 1: Управление проектной структурой и файловой системой**"
      ]
    },
    {
      "cell_type": "markdown",
      "metadata": {
        "id": "R0kyNeAVcGQE"
      },
      "source": [
        "1. **Создание и управление директориями:**\n",
        "   - Напишите скрипт, который автоматически создаст следующую структуру директорий для вашего проекта:\n",
        "     ```\n",
        "     project_root/\n",
        "     ├── data/\n",
        "     │   ├── raw/\n",
        "     │   ├── processed/\n",
        "     ├── logs/\n",
        "     ├── backups/\n",
        "     └── output/\n",
        "     ```\n",
        "   - Убедитесь, что все директории созданы, и если они уже существуют, не вызывайте ошибку.\n",
        "\n",
        "2. **Создание и запись данных в файлы:**\n",
        "   - В директории `data/raw/` создайте несколько текстовых файлов с произвольным содержимым на разных языках, используя разные кодировки (например, UTF-8, ISO-8859-1).\n",
        "   - Заполните директорию `logs/` лог-файлом с записями о выполнении предыдущих шагов, включая дату и время создания файлов и директорий.\n"
      ]
    },
    {
      "cell_type": "code",
      "source": [
        "# импорты основных модулей\n",
        "import os\n",
        "import shutil"
      ],
      "metadata": {
        "id": "hrYa9gXmHTB_"
      },
      "execution_count": null,
      "outputs": []
    },
    {
      "cell_type": "code",
      "source": [
        "# вспомогательный код УДАЛЕНИЯ дерева проектов (только для удобства - для прогонов кода)\n",
        "# НЕ ЗАПУСКАТЬ, если project_root пока не создан!\n",
        "shutil.rmtree('/content/project_root')"
      ],
      "metadata": {
        "id": "HCh5iYEGHmUX"
      },
      "execution_count": null,
      "outputs": []
    },
    {
      "cell_type": "code",
      "execution_count": null,
      "metadata": {
        "colab": {
          "base_uri": "https://localhost:8080/"
        },
        "id": "E6Or4Pd2cker",
        "outputId": "98335aec-2439-4adb-a606-c6c9f65949f5"
      },
      "outputs": [
        {
          "output_type": "stream",
          "name": "stdout",
          "text": [
            "Создана директория: '/content/project_root/'\n",
            "Создана директория: '/content/project_root/data/'\n",
            "Создана директория: '/content/project_root/logs/'\n",
            "Создана директория: '/content/project_root/backups/'\n",
            "Создана директория: '/content/project_root/output/'\n",
            "Создана директория: '/content/project_root/data/raw/'\n",
            "Создана директория: '/content/project_root/data/processed/'\n"
          ]
        }
      ],
      "source": [
        "# Решение задания 1.1\n",
        "ROOT = '/content/'\n",
        "\n",
        "# функция создания директории\n",
        "def create_path(path_name: str):\n",
        "    path_value = globals()[path_name]\n",
        "    if not os.path.exists(path_value):\n",
        "        os.mkdir(path_value)\n",
        "        print(f\"Создана директория: '{path_value}'\")\n",
        "    else:\n",
        "        print(f\"Директория: '{path_value}' уже создана!\")\n",
        "\n",
        "# запишем пути создаваемых директорий\n",
        "path1 = ROOT+'project_root/'\n",
        "path2 = ROOT+'project_root/data/'\n",
        "path3 = ROOT+'project_root/logs/'\n",
        "path4 = ROOT+'project_root/backups/'\n",
        "path5 = ROOT+'project_root/output/'\n",
        "path6 = ROOT+'project_root/data/raw/'\n",
        "path7 = ROOT+'project_root/data/processed/'\n",
        "\n",
        "# создание директорий\n",
        "for k in range(1, 8):\n",
        "    dir_name = f'path{k}'\n",
        "    create_path(dir_name)\n"
      ]
    },
    {
      "cell_type": "code",
      "source": [
        "# Решение задания 1.2\n",
        "\n",
        "# создаем 1-ый файл\n",
        "file1 = ROOT+'project_root/data/raw/'+'file1.txt'\n",
        "enc1 = 'iso-8859-1'\n",
        "with open(file1, 'w', encoding=enc1) as file:\n",
        "    file.write('This is just a sample string.\\n')\n",
        "    file.write('And this is another string.\\n')\n",
        "\n",
        "# создаем 2-ой файл\n",
        "file2 = ROOT+'project_root/data/raw/'+'file2.txt'\n",
        "enc2 = 'utf-8'\n",
        "with open(file2, 'w', encoding=enc2) as file:\n",
        "    file.write('Анна рассуждает об искусственном интеллекте.\\n')\n",
        "    file.write('Она поражена разнообразием платформ и разных возможностей.\\n')\n",
        "\n",
        "# создаем 3-ий файл\n",
        "file3 = ROOT+'project_root/data/raw/'+'file3.txt'\n",
        "enc3 = 'utf-8'\n",
        "with open(file3, 'w', encoding=enc3) as file:\n",
        "    file.write('lkajsdhflaksjd UYTIUY ГНЕШГН орывпалоырвпа.\\n')\n",
        "    file.write('эТо пРоСтО пОлНаЯ еРуНдА!\\n')\n"
      ],
      "metadata": {
        "id": "2P2rTj1EpvBd"
      },
      "execution_count": null,
      "outputs": []
    },
    {
      "cell_type": "code",
      "source": [
        "import time\n",
        "from datetime import datetime\n",
        "from zoneinfo import ZoneInfo\n",
        "\n",
        "# создаём log файл\n",
        "with open(path3+'log_file.txt', 'w') as file:\n",
        "    file.write('Это log файл.\\n')\n",
        "\n",
        "# функция фиксации посл. изм. файла/директории с приведением времени к МСК\n",
        "def log_create_info(path_name: str):\n",
        "    path_value = globals()[path_name]\n",
        "    modification_time = os.path.getmtime(path_value)\n",
        "    moscow_tz = ZoneInfo('Europe/Moscow')\n",
        "    # приводим время к МСК, а не GMT\n",
        "    local_dt = datetime.fromtimestamp(modification_time, tz=moscow_tz)\n",
        "    local_time = local_dt.strftime('%Y-%m-%d %H:%M:%S')\n",
        "    if os.path.isfile(path_value):\n",
        "        name_type = 'Файл'\n",
        "    elif os.path.isdir(path_value):\n",
        "        name_type = 'Директория'\n",
        "    with open(path3+'log_file.txt', 'a') as file:\n",
        "        file.write(f\"{name_type:12} {path_value:48} - посл. изм.: {local_time}\\n\")\n",
        "\n",
        "# собираем данные для создания директорий\n",
        "for k in range(1, 8):\n",
        "    dir_name = f'path{k}'\n",
        "    log_create_info(dir_name)\n",
        "\n",
        "# собираем данные для создания файлов\n",
        "for m in range(1, 4):\n",
        "    file_name = f'file{m}'\n",
        "    log_create_info(file_name)\n",
        "\n",
        "# печатаем содержимое log файла\n",
        "with open(path3+'log_file.txt', 'r') as file:\n",
        "    log_lines = file.readlines()\n",
        "    for line in log_lines:\n",
        "        print(line, end='')\n"
      ],
      "metadata": {
        "colab": {
          "base_uri": "https://localhost:8080/"
        },
        "id": "g-6DGt1cJfUN",
        "outputId": "f780a6c9-25fc-441c-f246-0dc4562108ca"
      },
      "execution_count": null,
      "outputs": [
        {
          "output_type": "stream",
          "name": "stdout",
          "text": [
            "Это log файл.\n",
            "Директория   /content/project_root/                           - посл. изм.: 2025-03-19 00:56:33\n",
            "Директория   /content/project_root/data/                      - посл. изм.: 2025-03-19 00:56:33\n",
            "Директория   /content/project_root/logs/                      - посл. изм.: 2025-03-19 00:56:37\n",
            "Директория   /content/project_root/backups/                   - посл. изм.: 2025-03-19 00:56:33\n",
            "Директория   /content/project_root/output/                    - посл. изм.: 2025-03-19 00:56:33\n",
            "Директория   /content/project_root/data/raw/                  - посл. изм.: 2025-03-19 00:56:36\n",
            "Директория   /content/project_root/data/processed/            - посл. изм.: 2025-03-19 00:56:33\n",
            "Файл         /content/project_root/data/raw/file1.txt         - посл. изм.: 2025-03-19 00:56:36\n",
            "Файл         /content/project_root/data/raw/file2.txt         - посл. изм.: 2025-03-19 00:56:36\n",
            "Файл         /content/project_root/data/raw/file3.txt         - посл. изм.: 2025-03-19 00:56:36\n"
          ]
        }
      ]
    },
    {
      "cell_type": "markdown",
      "metadata": {
        "id": "mMwq7NMgcGQF"
      },
      "source": [
        "### **Задание 2: Чтение, преобразование и сериализация данных**"
      ]
    },
    {
      "cell_type": "markdown",
      "metadata": {
        "id": "MN1tFrDqcGQF"
      },
      "source": [
        "1. **Чтение и обработка данных:**\n",
        "   - Напишите скрипт, который будет автоматически читать все файлы из директории `data/raw/`, корректно определяя их кодировки.\n",
        "   - Выполните преобразование данных из каждого файла, заменяя в них все заглавные буквы на строчные и наоборот.\n",
        "   - Сохраните обработанные данные в новые файлы в директорию `data/processed/` с сохранением исходных имен файлов, но добавив к ним суффикс `_processed`.\n",
        "\n",
        "2. **Сериализация данных:**\n",
        "   - Напишите скрипт для сериализации содержимого всех файлов из директории `data/processed/` в один JSON-файл.\n",
        "   - Включите в этот JSON-файл следующую информацию:\n",
        "     - Имя файла.\n",
        "     - Исходный текст.\n",
        "     - Преобразованный текст.\n",
        "     - Размер файла в байтах.\n",
        "     - Дата последнего изменения файла.\n",
        "   - Сохраните JSON-файл в директорию `output/` с именем `processed_data.json`.\n"
      ]
    },
    {
      "cell_type": "code",
      "source": [
        "import chardet\n",
        "import json\n",
        "\n",
        "# директории файлов: source - исходные файлы; target - обработанные файлы; output- для json файла\n",
        "source_dir = '/content/project_root/data/raw/'\n",
        "target_dir = '/content/project_root/data/processed/'\n",
        "output_dir = '/content/project_root/output/'\n",
        "\n",
        "# список для сохранения json сериализации\n",
        "for_json = list()\n",
        "\n",
        "# функция определения кодировки файла\n",
        "def get_encoding(file_path: str) -> str:\n",
        "    with open(file_path, 'rb') as file:\n",
        "        raw_data = file.read()\n",
        "        result = chardet.detect(raw_data)\n",
        "        return result['encoding']\n",
        "\n",
        "# функция приведения регистра к противоположному\n",
        "def convert_case(text: str) -> str:\n",
        "    return text.swapcase()\n",
        "\n",
        "# основная функция\n",
        "# input: имя файла, исходная директория, целевая директория для обработанного файла\n",
        "# output: словарь для записи в список сериализованных данных в json файл\n",
        "def process_file(file_name: str, source_dir: str, target_dir: str) -> dict:\n",
        "    file_path = source_dir+file_name\n",
        "    # получаем исходную кодировку файла\n",
        "    encoding = get_encoding(file_path)\n",
        "    # открываем файл и переделываем регистр на противоположный\n",
        "    with open(file_path, 'r', encoding=encoding) as file:\n",
        "        original_text = file.read()\n",
        "    converted_text = convert_case(original_text)\n",
        "    target_path = target_dir+file_name\n",
        "    # записывем конвертированный файл\n",
        "    with open(target_path, 'w', encoding=encoding) as file:\n",
        "        file.write(converted_text)\n",
        "        print(f\"Файл: {target_path} записан.\")\n",
        "    file_size = os.path.getsize(target_path)\n",
        "    #\n",
        "    modification_time = os.path.getmtime(file_path)\n",
        "    moscow_tz = ZoneInfo('Europe/Moscow')\n",
        "    # приводим время к МСК, а не GMT\n",
        "    local_dt = datetime.fromtimestamp(modification_time, tz=moscow_tz)\n",
        "    last_modified = local_dt.strftime('%Y-%m-%d %H:%M:%S')\n",
        "    #\n",
        "    return {\n",
        "        'file_name': file_name,\n",
        "        'original_text': original_text,\n",
        "        'converted_text': converted_text,\n",
        "        'file_size': file_size,\n",
        "        'last_modified': last_modified\n",
        "    }\n",
        "\n",
        "# последовательно обрабатываем файлы\n",
        "for m in range(1, 4):\n",
        "    dict1 = process_file(f'file{m}.txt', source_dir, target_dir)\n",
        "    for_json.append(dict1)\n",
        "\n",
        "print('Для записи в файл json:')\n",
        "print(for_json)\n",
        "\n",
        "# целевой файл для записи данных в формате json\n",
        "output_file = 'processed_data.json'\n",
        "\n",
        "# записываем итоговый json файл\n",
        "with open(os.path.join(output_dir, output_file), 'w') as json_file:\n",
        "        json.dump(for_json, json_file, indent=4, ensure_ascii=False)\n",
        "        print(f'Файл в формате json: {output_file} записан.')\n"
      ],
      "metadata": {
        "colab": {
          "base_uri": "https://localhost:8080/"
        },
        "id": "vlfPYEHMQfUj",
        "outputId": "88064aff-59df-45ef-d5eb-0260eb310edf"
      },
      "execution_count": null,
      "outputs": [
        {
          "output_type": "stream",
          "name": "stdout",
          "text": [
            "Файл: /content/project_root/data/processed/file1.txt записан.\n",
            "Файл: /content/project_root/data/processed/file2.txt записан.\n",
            "Файл: /content/project_root/data/processed/file3.txt записан.\n",
            "Для записи в файл json:\n",
            "[{'file_name': 'file1.txt', 'original_text': 'This is just a sample string.\\nAnd this is another string.\\n', 'converted_text': 'tHIS IS JUST A SAMPLE STRING.\\naND THIS IS ANOTHER STRING.\\n', 'file_size': 58, 'last_modified': '2025-03-19 00:56:36'}, {'file_name': 'file2.txt', 'original_text': 'Анна рассуждает об искусственном интеллекте.\\nОна поражена разнообразием платформ и разных возможностей.\\n', 'converted_text': 'аННА РАССУЖДАЕТ ОБ ИСКУССТВЕННОМ ИНТЕЛЛЕКТЕ.\\nоНА ПОРАЖЕНА РАЗНООБРАЗИЕМ ПЛАТФОРМ И РАЗНЫХ ВОЗМОЖНОСТЕЙ.\\n', 'file_size': 194, 'last_modified': '2025-03-19 00:56:36'}, {'file_name': 'file3.txt', 'original_text': 'lkajsdhflaksjd UYTIUY ГНЕШГН орывпалоырвпа.\\nэТо пРоСтО пОлНаЯ еРуНдА!\\n', 'converted_text': 'LKAJSDHFLAKSJD uytiuy гнешгн ОРЫВПАЛОЫРВПА.\\nЭтО ПрОсТо ПоЛнАя ЕрУнДа!\\n', 'file_size': 110, 'last_modified': '2025-03-19 00:56:36'}]\n",
            "Файл в формате json: processed_data.json записан.\n"
          ]
        }
      ]
    },
    {
      "cell_type": "markdown",
      "metadata": {
        "id": "W8oVXGZ1cGQF"
      },
      "source": [
        "### **Задание 3: Работа с резервными копиями и восстановлением данных**"
      ]
    },
    {
      "cell_type": "markdown",
      "metadata": {
        "id": "NIQuBaeocGQF"
      },
      "source": [
        "1. **Создание резервной копии:**\n",
        "   - Напишите скрипт, который автоматически создаст архив резервной копии всех файлов из директории `data/` и сохранит его в директорию `backups/` с именем `backup_<дата>.zip`, где `<дата>` — текущая дата в формате `YYYYMMDD`.\n",
        "\n",
        "2. **Восстановление данных:**\n",
        "   - Напишите скрипт для разархивирования и восстановления данных из созданного архива резервной копии. Убедитесь, что все файлы восстановлены в соответствующие директории, и их содержимое не повреждено.\n"
      ]
    },
    {
      "cell_type": "code",
      "source": [
        "# Решение задания 3.1\n",
        "import zlib # модуль для подсчета чек-сумм\n",
        "\n",
        "chksum_dict = dict()    # словарь для хранения чек-сумм\n",
        "\n",
        "# функция создания чек-суммы файла\n",
        "def get_checksum(file_path):\n",
        "    with open(file_path, 'rb') as file:\n",
        "        checksum = zlib.crc32(file.read())\n",
        "        return hex(checksum & 0xffffffff)[2:]\n",
        "\n",
        "# исходная директория, которую будем архивировать\n",
        "source_dir = '/content/project_root/data/'\n",
        "\n",
        "# директория для сохранения резервной копии\n",
        "backup_dir = '/content/project_root/backups/'\n",
        "\n",
        "# текущая дата в формате YYYYMMDD\n",
        "today = datetime.today().strftime(\"%Y%m%d\")\n",
        "\n",
        "# имя файла резервной копии (без расширения)\n",
        "backup_filename = f'backup_{today}'\n",
        "\n",
        "full_backup_path = backup_dir+backup_filename\n",
        "\n",
        "# создаем словарь чек-сумм файлов (для контроля восстановления)\n",
        "chksum_dict = {root+'/'+file: get_checksum(root+'/'+file) \\\n",
        "             for root, _, files in os.walk(source_dir) for file in files}\n",
        "\n",
        "# создание резервной копии\n",
        "shutil.make_archive(full_backup_path, 'zip', base_dir=source_dir)    # архивирование само добавляет расширение zip к имени файла"
      ],
      "metadata": {
        "colab": {
          "base_uri": "https://localhost:8080/",
          "height": 36
        },
        "id": "qAG0c11k04tI",
        "outputId": "333d6a9a-bcf1-456b-ce19-0b840a43e5aa"
      },
      "execution_count": null,
      "outputs": [
        {
          "output_type": "execute_result",
          "data": {
            "text/plain": [
              "'/content/project_root/backups/backup_20250318.zip'"
            ],
            "application/vnd.google.colaboratory.intrinsic+json": {
              "type": "string"
            }
          },
          "metadata": {},
          "execution_count": 39
        }
      ]
    },
    {
      "cell_type": "code",
      "source": [
        "# Решение задания 3.2\n",
        "\n",
        "os.chdir('/')   # переходим к корневой директории, так как архивный файл будет распаковываться относительно неё\n",
        "\n",
        "shutil.unpack_archive(full_backup_path+'.zip', format='zip')    # необходимо добавить расширение zip к имени файла\n",
        "\n",
        "# словарь чек-сумм восстановленных файлов\n",
        "chksum_dict_recovered = dict()\n",
        "\n",
        "# создаем словарь чек-сумм файлов (после восстановления)\n",
        "chksum_dict_recovered = {root+'/'+file: get_checksum(root+'/'+file) \\\n",
        "             for root, _, files in os.walk(source_dir) for file in files}\n",
        "\n",
        "# печать исходных файлов и их контрольных сумм\n",
        "print(chksum_dict)\n",
        "\n",
        "# печать восстановленных файлов и их контрольных сумм\n",
        "print(chksum_dict_recovered)\n",
        "\n",
        "# проверяем чек-суммы и выводим сообшение\n",
        "if sorted(chksum_dict) == sorted(chksum_dict_recovered):\n",
        "    print('Архив восстановлен без ошибок!')\n",
        "else:\n",
        "    print('Замечено повреждение файлов при восстановлении.')"
      ],
      "metadata": {
        "colab": {
          "base_uri": "https://localhost:8080/"
        },
        "id": "wEVCR6hxAitY",
        "outputId": "d7437718-bf7a-476e-ffe8-c91ddee5f33f"
      },
      "execution_count": null,
      "outputs": [
        {
          "output_type": "stream",
          "name": "stdout",
          "text": [
            "{'/content/project_root/data/processed/file1.txt': 'ba431824', '/content/project_root/data/processed/file2.txt': '123e4c31', '/content/project_root/data/processed/file3.txt': '10a2c3fb', '/content/project_root/data/raw/file1.txt': '1f756edb', '/content/project_root/data/raw/file2.txt': 'ead41d33', '/content/project_root/data/raw/file3.txt': '9a5b405f'}\n",
            "{'/content/project_root/data/processed/file1.txt': 'ba431824', '/content/project_root/data/processed/file2.txt': '123e4c31', '/content/project_root/data/processed/file3.txt': '10a2c3fb', '/content/project_root/data/raw/file1.txt': '1f756edb', '/content/project_root/data/raw/file2.txt': 'ead41d33', '/content/project_root/data/raw/file3.txt': '9a5b405f'}\n",
            "Архив восстановлен без ошибок!\n"
          ]
        }
      ]
    },
    {
      "cell_type": "markdown",
      "metadata": {
        "id": "vsSij4YFcGQF"
      },
      "source": [
        "### **Задание 4: Дополнительные задачи с сериализацией и JSON Schema**"
      ]
    },
    {
      "cell_type": "markdown",
      "metadata": {
        "id": "9hEms1T7cGQF"
      },
      "source": [
        "1. **Работа с пользовательскими классами и JSON:**\n",
        "   - Создайте класс `FileInfo`, который будет хранить информацию о файлах, включающую:\n",
        "     - Имя файла.\n",
        "     - Полный путь к файлу.\n",
        "     - Размер файла.\n",
        "     - Дата создания и последнего изменения файла.\n",
        "   - Напишите скрипт, который собирает информацию обо всех файлах в директории `data/processed/` и сериализует их в JSON-файл. Убедитесь, что при десериализации данные восстанавливаются корректно.\n",
        "\n",
        "2. **Валидация JSON с использованием JSON Schema:**\n",
        "   - Создайте JSON Schema для проверки структуры данных, созданной в предыдущем задании.\n",
        "   - Напишите скрипт, который проверяет валидность JSON-файла, созданного в предыдущем задании, с использованием созданной JSON Schema.\n",
        "   - Обработайте возможные ошибки валидации, предоставив отчет о найденных несоответствиях.\n"
      ]
    },
    {
      "cell_type": "code",
      "source": [
        "class FileInfo:\n",
        "    def __init__(self, file_name, full_path, file_size, create_date, modify_date):\n",
        "        self.file_name = file_name\n",
        "        self.full_path = full_path\n",
        "        self.file_size = file_size\n",
        "        self.create_date = create_date\n",
        "        self.modify_date = modify_date\n",
        "\n",
        "\n",
        "source_dir = '/content/project_root/data/processed/'\n",
        "output_dir = '/content/project_root/output/'\n",
        "\n",
        "def get_file_data(full_path: str) -> dict:\n",
        "\n",
        "    # имя файла\n",
        "    file_name = os.path.basename(full_path)\n",
        "\n",
        "    # дата и время создания файла (время МСК!)\n",
        "    creation_time = os.path.getctime(full_path)\n",
        "    moscow_tz = ZoneInfo('Europe/Moscow')\n",
        "    creation_datetime = datetime.fromtimestamp(creation_time, moscow_tz)\n",
        "\n",
        "    # дата и время последней модификации файла (время МСК!)\n",
        "    modification_time = os.path.getmtime(full_path)\n",
        "    modification_datetime = datetime.fromtimestamp(modification_time, moscow_tz)\n",
        "\n",
        "    # собираем данные в словарь\n",
        "    data = {\n",
        "        'file_name': file_name,\n",
        "        'full_path': full_path,\n",
        "        'file_size': os.path.getsize(full_path),\n",
        "        'creation_time': creation_datetime.strftime(\"%Y-%m-%d %H:%M:%S\"),\n",
        "        'modification_time': modification_datetime.strftime(\"%Y-%m-%d %H:%M:%S\")\n",
        "    }\n",
        "\n",
        "    # возвращаем словарь данных\n",
        "    return data\n",
        "\n",
        "data = {file: get_file_data(source_dir+file) for root, _, files in os.walk(source_dir) for file in files}\n",
        "\n",
        "print(data)\n",
        "\n",
        "json_string = json.dumps(data, indent=4)\n",
        "print(f\"Сериализованный JSON:\\nType: {type(json_string)}\\n\", json_string)\n",
        "\n",
        "output_file = \"output.json\"\n",
        "\n",
        "try:\n",
        "    with open(output_dir+output_file, \"w\") as file:\n",
        "        json.dump(data, file, indent=4)\n",
        "    print(f'Файл: {output_dir+output_file} записан.')\n",
        "except Exception as e:\n",
        "    print('Exception: {e}')"
      ],
      "metadata": {
        "colab": {
          "base_uri": "https://localhost:8080/"
        },
        "id": "xTvgaVUXZgCF",
        "outputId": "b6aae06d-53ad-4caa-fa32-98770b76e4bf"
      },
      "execution_count": null,
      "outputs": [
        {
          "output_type": "stream",
          "name": "stdout",
          "text": [
            "{'file1.txt': {'file_name': 'file1.txt', 'full_path': '/content/project_root/data/processed/file1.txt', 'file_size': 58, 'creation_time': '2025-03-19 00:56:57', 'modification_time': '2025-03-19 00:56:57'}, 'file2.txt': {'file_name': 'file2.txt', 'full_path': '/content/project_root/data/processed/file2.txt', 'file_size': 194, 'creation_time': '2025-03-19 00:56:57', 'modification_time': '2025-03-19 00:56:57'}, 'file3.txt': {'file_name': 'file3.txt', 'full_path': '/content/project_root/data/processed/file3.txt', 'file_size': 110, 'creation_time': '2025-03-19 00:56:57', 'modification_time': '2025-03-19 00:56:57'}}\n",
            "Сериализованный JSON:\n",
            "Type: <class 'str'>\n",
            " {\n",
            "    \"file1.txt\": {\n",
            "        \"file_name\": \"file1.txt\",\n",
            "        \"full_path\": \"/content/project_root/data/processed/file1.txt\",\n",
            "        \"file_size\": 58,\n",
            "        \"creation_time\": \"2025-03-19 00:56:57\",\n",
            "        \"modification_time\": \"2025-03-19 00:56:57\"\n",
            "    },\n",
            "    \"file2.txt\": {\n",
            "        \"file_name\": \"file2.txt\",\n",
            "        \"full_path\": \"/content/project_root/data/processed/file2.txt\",\n",
            "        \"file_size\": 194,\n",
            "        \"creation_time\": \"2025-03-19 00:56:57\",\n",
            "        \"modification_time\": \"2025-03-19 00:56:57\"\n",
            "    },\n",
            "    \"file3.txt\": {\n",
            "        \"file_name\": \"file3.txt\",\n",
            "        \"full_path\": \"/content/project_root/data/processed/file3.txt\",\n",
            "        \"file_size\": 110,\n",
            "        \"creation_time\": \"2025-03-19 00:56:57\",\n",
            "        \"modification_time\": \"2025-03-19 00:56:57\"\n",
            "    }\n",
            "}\n",
            "Файл: /content/project_root/output/output.json записан.\n"
          ]
        }
      ]
    },
    {
      "cell_type": "markdown",
      "metadata": {
        "id": "v01Lx6xVcGQF"
      },
      "source": [
        "### **Задание 5: Отчёт и анализ проделанной работы**"
      ]
    },
    {
      "cell_type": "markdown",
      "metadata": {
        "id": "iHg5DyjjcGQG"
      },
      "source": [
        "1. **Создание итогового отчёта:**\n",
        "   - Сгенерируйте отчёт в текстовом файле или в формате JSON с анализом выполнения всех заданий:\n",
        "     - Описание возникших трудностей и способы их решения.\n",
        "     - Время, затраченное на выполнение каждого задания.\n",
        "     - Выводы о проделанной работе и предложенные улучшения.\n",
        "\n",
        "2. **Логирование и контроль версий:** (<span style=\"color:red;font-weight:bold;\">по желанию</span>, но если хотите \"релевантный опыт\", то сделайте)\n",
        "   - Подумайте о добавлении логирования во все скрипты для отслеживания ошибок и прогресса выполнения заданий.\n",
        "   - Опишите, как можно было бы интегрировать систему контроля версий (например, Git) в выполнение этого задания для отслеживания изменений и управления проектом.\n"
      ]
    },
    {
      "cell_type": "code",
      "source": [
        "# итоговый отчет в формате json для записи в файл\n",
        "report = [\n",
        "    {\n",
        "    \"task\": 1,\n",
        "    \"difficulties\": [\"Надо было придумать, как в цикле из строк создавать директории - решение: с помощью глобальных переменных.\", \"Надо было также продумать преобразование времени последней модификации к МСК времени.\"],\n",
        "    \"time_in_hours\": 1\n",
        "    },\n",
        "    {\n",
        "    \"task\": 2,\n",
        "    \"difficulties\": [\"Всё было понятно более-менее из урока, преобразование времени к МСК из предыдущего задания.\"],\n",
        "    \"time_in_hours\": 2\n",
        "    },\n",
        "    {\n",
        "    \"task\": 3,\n",
        "    \"difficulties\": [\"Надо было разобраться с контролем восстановления версий файлов из архива с помощью checksums.\"],\n",
        "    \"time_in_hours\": 4\n",
        "    },\n",
        "    {\n",
        "    \"task\": 4,\n",
        "    \"difficulties\": [\"Всё было понятно более-менее из урока, сериализация в json реализована.\"],\n",
        "    \"time_in_hours\": 2\n",
        "    },\n",
        "    {\n",
        "    \"task\": 5,\n",
        "    \"difficulties\": [\"Не совсем понятно, что значит сгенерировать отчёт в текстовом файле. Как?\", \"Затраченное время при написании кода в ячейках тоже похоже отфиксировать точно невозможно, так как можно несколько раз входить и выходить из файла\", \"Надо было разобраться, чтобы при записи в файл не терялись символы кириллицы, то есть применять параметр ensure_ascii=False.\"],\n",
        "    \"time_in_hours\": 2\n",
        "    }\n",
        "]\n",
        "\n",
        "\n",
        "# запись в json файл\n",
        "with open('/content/my_report.json', 'w') as file:\n",
        "    json.dump(report, file, indent=4, ensure_ascii=False)\n"
      ],
      "metadata": {
        "id": "wDasI0GUZLL6"
      },
      "execution_count": null,
      "outputs": []
    },
    {
      "cell_type": "markdown",
      "metadata": {
        "id": "B2L4U5hycGQG"
      },
      "source": [
        "### **Требования к сдаче задания:**"
      ]
    },
    {
      "cell_type": "markdown",
      "metadata": {
        "id": "AwJK2iYpcGQG"
      },
      "source": [
        "\n",
        "- Домашнее задание, с проектной структурой, включающий все созданные файлы и скрипты, сдавать ссылкой на github или ссылкой на архив.\n",
        "- Отчёт о проделанной работе в формате PDF, TXT или JSON.\n",
        "- Комментарии ко всем скриптам, объясняющие их работу и использованные методы."
      ]
    }
  ],
  "metadata": {
    "colab": {
      "provenance": []
    },
    "kernelspec": {
      "display_name": "Python 3",
      "name": "python3"
    },
    "language_info": {
      "name": "python"
    }
  },
  "nbformat": 4,
  "nbformat_minor": 0
}